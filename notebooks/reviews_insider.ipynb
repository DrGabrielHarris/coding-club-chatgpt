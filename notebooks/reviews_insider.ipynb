{
 "cells": [
  {
   "cell_type": "code",
   "execution_count": 7,
   "metadata": {},
   "outputs": [],
   "source": [
    "import ast\n",
    "import json\n",
    "import os\n",
    "\n",
    "import pandas as pd\n",
    "from dotenv import load_dotenv\n",
    "from IPython.display import display\n",
    "from openai import OpenAI\n"
   ]
  },
  {
   "cell_type": "code",
   "execution_count": null,
   "metadata": {},
   "outputs": [],
   "source": [
    "load_dotenv(\".env\")\n",
    "api_key = os.getenv(\"OPENAI_API_KEY\")\n",
    "\n",
    "client = OpenAI(api_key=api_key)"
   ]
  },
  {
   "cell_type": "code",
   "execution_count": null,
   "metadata": {},
   "outputs": [],
   "source": [
    "def get_completion(system_prompt, user_prompt, model=\"gpt-4o-mini\"):\n",
    "    completion = client.chat.completions.create(\n",
    "        model=model,\n",
    "        messages=[\n",
    "            {\"role\": \"system\", \"content\": system_prompt},\n",
    "            {\"role\": \"user\", \"content\": user_prompt},\n",
    "        ],\n",
    "        max_tokens=4000,\n",
    "        temperature=0.9,\n",
    "        response_format={\n",
    "            \"type\": \"json_object\",\n",
    "        },\n",
    "    )\n",
    "\n",
    "    completion = completion.to_dict()\n",
    "\n",
    "    content = completion[\"choices\"][0][\"message\"][\"content\"]\n",
    "\n",
    "    return content"
   ]
  },
  {
   "cell_type": "markdown",
   "metadata": {},
   "source": [
    "#### AI Application: Customers Reviews Insider \n",
    "\n",
    "`reviews.csv` has been created by collecting a number of reviews of an *Apple iPhone 16 Pro* on [Amazon](https://www.amazon.co.uk/Apple-iPhone-16-Pro-128/dp/B0DGHSYPYK/ref=cm_cr_arp_d_product_top?ie=UTF8)\n",
    "\n",
    "Let's develop an AI application that can:\n",
    "\n",
    "1. Analyse Sentiment of a given review, also known as **Sentiment Analysis**.\n",
    "2. Extract the main topics of a given review, also known as **Topics Extraction**.\n",
    "3. Extract the main themes across all topics.\n",
    "4. Summarise what the customers are saying about extracted themes, also known as **Text Summarisation**.\n",
    "5. Summarise the summaries of extracted themes."
   ]
  },
  {
   "cell_type": "code",
   "execution_count": null,
   "metadata": {},
   "outputs": [],
   "source": [
    "df_reviews = pd.read_csv(\"data/reviews.csv\", encoding=\"ISO-8859-1\")\n",
    "display(df_reviews)"
   ]
  },
  {
   "cell_type": "code",
   "execution_count": null,
   "metadata": {},
   "outputs": [],
   "source": [
    "review_1 = df_reviews.iloc[0][[\"title\", \"review\"]].to_dict()\n",
    "display(review_1)"
   ]
  },
  {
   "cell_type": "markdown",
   "metadata": {},
   "source": [
    "**1. Sentiment Analysis**\n",
    "\n",
    "Sentiment analysis is a very common technique to determine the attitude or emotional tone conveyed in the text, whether it's **positive**, **negative**, or **neutral**."
   ]
  },
  {
   "cell_type": "markdown",
   "metadata": {},
   "source": [
    "<span style=\"color:green\">\n",
    "Task 1: Write a system prompt with the task of detecting the Sentiment of a review. \n",
    "\n",
    "The output should be a structured <code>JSON</code> in this format:\n",
    "\n",
    "```json\n",
    "{\n",
    "    \"sentiment\": \"positive, negative, or neutral\"\n",
    "}\n",
    "```\n",
    "</span>"
   ]
  },
  {
   "cell_type": "code",
   "execution_count": null,
   "metadata": {},
   "outputs": [],
   "source": [
    "system_prompt = \"\"\"\n",
    "You are an experienced customer service representative for a large online retailer. \n",
    "\n",
    "Your task is to:\n",
    "* Review a customer review.\n",
    "* Determine the sentiment of the review.\n",
    "    \n",
    "Return the response as a json in this format:\n",
    "{\n",
    "    \"sentiment\": \"positive, negative, or neutral\"\n",
    "}\n",
    "\"\"\"\n",
    "system_prompt"
   ]
  },
  {
   "cell_type": "markdown",
   "metadata": {},
   "source": [
    "<span style=\"color:green\">\n",
    "Task 2: Write a user prompt to detect the sentiment of a specific review.\n",
    "</span>"
   ]
  },
  {
   "cell_type": "code",
   "execution_count": null,
   "metadata": {},
   "outputs": [],
   "source": [
    "user_prompt = f\"\"\"\n",
    "Determine the sentiment of the following review which also includes the title:\n",
    "\n",
    "{review_1}\n",
    "\"\"\"\n",
    "user_prompt"
   ]
  },
  {
   "cell_type": "markdown",
   "metadata": {},
   "source": [
    "<span style=\"color:green\">\n",
    "Task 3: Test your prompt for one review.\n",
    "</span>"
   ]
  },
  {
   "cell_type": "code",
   "execution_count": null,
   "metadata": {},
   "outputs": [],
   "source": [
    "completion = get_completion(system_prompt, user_prompt)\n",
    "completion = json.loads(completion)\n",
    "completion"
   ]
  },
  {
   "cell_type": "markdown",
   "metadata": {},
   "source": [
    "<span style=\"color:green\">\n",
    "Task 4: Turn your code into a <code>get_sentiment</code> function.\n",
    "</span>"
   ]
  },
  {
   "cell_type": "code",
   "execution_count": null,
   "metadata": {},
   "outputs": [],
   "source": [
    "def get_sentiment(review):\n",
    "    system_prompt = \"\"\"\n",
    "    You are an experienced customer service representative for a large online retailer. \n",
    "    \n",
    "    Your task is to:\n",
    "    * Review a customer review.\n",
    "    * Determine the sentiment of the review. \n",
    "\n",
    "    Return the response as a json in this format:\n",
    "    {\n",
    "        \"sentiment\": \"positive, negative, or neutral\"\n",
    "    }\n",
    "    \"\"\"\n",
    "\n",
    "    user_prompt = f\"\"\"\n",
    "    Determine the sentiment of the following review which also includes the title:\n",
    "\n",
    "    {review}\n",
    "    \"\"\"\n",
    "    completion = get_completion(system_prompt, user_prompt)\n",
    "    completion = json.loads(completion)\n",
    "    return completion[\"sentiment\"]"
   ]
  },
  {
   "cell_type": "markdown",
   "metadata": {},
   "source": [
    "<span style=\"color:green\">\n",
    "Task 5: Use your function to get the sentiment for all reviews.\n",
    "</span>"
   ]
  },
  {
   "cell_type": "code",
   "execution_count": null,
   "metadata": {},
   "outputs": [],
   "source": [
    "for ind, row in df_reviews.iterrows():\n",
    "    review = row[[\"title\", \"review\"]].to_dict()\n",
    "    sentiment = get_sentiment(review)\n",
    "    df_reviews.loc[ind, \"sentiment\"] = sentiment\n",
    "\n",
    "display(df_reviews)"
   ]
  },
  {
   "cell_type": "markdown",
   "metadata": {},
   "source": [
    "<span style=\"color:green\">\n",
    "Task 6: Manually validate the detected sentiment.\n",
    "</span>"
   ]
  },
  {
   "cell_type": "markdown",
   "metadata": {},
   "source": [
    "<span style=\"color:green\">\n",
    "Task 7: Extra: can you think of techniques to preprocess the review in order to improve the accuracy?\n",
    "</span>"
   ]
  },
  {
   "cell_type": "markdown",
   "metadata": {},
   "source": [
    "Techniques to improve accuracy:\n",
    "1. Remove special characters such as emojis and hashtags\n",
    "2. Lowercase all text to create uniformity\n",
    "3. Correct spelling errors "
   ]
  },
  {
   "cell_type": "markdown",
   "metadata": {},
   "source": [
    "**2. Topics Extraction**"
   ]
  },
  {
   "cell_type": "markdown",
   "metadata": {},
   "source": [
    "Topics Extraction helps in identifying the main topics within a text."
   ]
  },
  {
   "cell_type": "markdown",
   "metadata": {},
   "source": [
    "<span style=\"color:green\">\n",
    "Task 1: Write a system prompt with the task of extracting the main 5 topics of a review. \n",
    "\n",
    "The output should be a structured <code>JSON</code> in this format:\n",
    "\n",
    "```json\n",
    "{\n",
    "    \"topics\": [list of extracted topics]\n",
    "}\n",
    "```\n",
    "</span>"
   ]
  },
  {
   "cell_type": "code",
   "execution_count": null,
   "metadata": {},
   "outputs": [],
   "source": [
    "system_prompt = \"\"\"\n",
    "You are an experienced customer service representative for a large online retailer. \n",
    "\n",
    "Your task is to:\n",
    "* Review a customer review.\n",
    "* Identify key topics in the review. \n",
    "* Extract the top 5 key topics.\n",
    "\n",
    "Return the response as a json in this format:\n",
    "{\n",
    "    \"topics\": [list of extracted topics]\n",
    "}\n",
    "\"\"\"\n",
    "system_prompt"
   ]
  },
  {
   "cell_type": "markdown",
   "metadata": {},
   "source": [
    "<span style=\"color:green\">\n",
    "Task 2: Write a user prompt to extract the topics of a specific review.\n",
    "</span>"
   ]
  },
  {
   "cell_type": "code",
   "execution_count": null,
   "metadata": {},
   "outputs": [],
   "source": [
    "user_prompt = f\"\"\"\n",
    "Determine the main topics of the following review which also includes the title:\n",
    "\n",
    "{review}\n",
    "\"\"\"\n",
    "user_prompt"
   ]
  },
  {
   "cell_type": "markdown",
   "metadata": {},
   "source": [
    "<span style=\"color:green\">\n",
    "Task 3: Test your prompt for one review.\n",
    "</span>"
   ]
  },
  {
   "cell_type": "code",
   "execution_count": null,
   "metadata": {},
   "outputs": [],
   "source": [
    "completion = get_completion(system_prompt, user_prompt)\n",
    "completion = json.loads(completion)\n",
    "completion"
   ]
  },
  {
   "cell_type": "markdown",
   "metadata": {},
   "source": [
    "<span style=\"color:green\">\n",
    "Task 4: Turn your code into a <code>get_topics</code> function.\n",
    "</span>"
   ]
  },
  {
   "cell_type": "code",
   "execution_count": null,
   "metadata": {},
   "outputs": [],
   "source": [
    "def get_topics(review):\n",
    "    system_prompt = \"\"\"\n",
    "    You are an experienced customer service representative for a large online retailer. \n",
    "\n",
    "    Your task is to:\n",
    "    * Review a customer review.\n",
    "    * Identify key topics in the review. \n",
    "    * Extract the top 5 key topics.\n",
    "\n",
    "    Return the response as a json in this format:\n",
    "    {\n",
    "        \"topics\": [list of extracted topics]\n",
    "    }\n",
    "    \"\"\"\n",
    "\n",
    "    user_prompt = f\"\"\"\n",
    "    Determine the main topics of the following review which also includes the title:\n",
    "\n",
    "    {review}\n",
    "    \"\"\"\n",
    "    completion = get_completion(system_prompt, user_prompt)\n",
    "    completion = json.loads(completion)\n",
    "    return completion[\"topics\"]"
   ]
  },
  {
   "cell_type": "markdown",
   "metadata": {},
   "source": [
    "<span style=\"color:green\">\n",
    "Task 5: Use your function to get the topics for all reviews.\n",
    "</span>"
   ]
  },
  {
   "cell_type": "code",
   "execution_count": null,
   "metadata": {},
   "outputs": [],
   "source": [
    "for ind, row in df_reviews.iterrows():\n",
    "    review = row[[\"title\", \"review\"]].to_dict()\n",
    "    topics = get_topics(review)\n",
    "    df_reviews.loc[ind, \"topics\"] = str(topics)\n",
    "\n",
    "display(df_reviews[[\"title\", \"review\", \"topics\"]])"
   ]
  },
  {
   "cell_type": "markdown",
   "metadata": {},
   "source": [
    "<span style=\"color:green\">\n",
    "Task 6: Manually validate the extracted topics.\n",
    "</span>"
   ]
  },
  {
   "cell_type": "markdown",
   "metadata": {},
   "source": [
    "**3. Themes Extraction**\n",
    "\n",
    "Themes Extraction helps in identifying the main themes across a large number of extracted topics."
   ]
  },
  {
   "cell_type": "code",
   "execution_count": null,
   "metadata": {},
   "outputs": [],
   "source": [
    "topics = df_reviews[\"topics\"].apply(lambda x: ast.literal_eval(x)).to_list()\n",
    "display(topics)"
   ]
  },
  {
   "cell_type": "markdown",
   "metadata": {},
   "source": [
    "<span style=\"color:green\">\n",
    "Task 1: Write a system prompt with the task of identifying the top 10 main themes across all extracted topics. \n",
    "\n",
    "The output should be a structured <code>JSON</code> in this format:\n",
    "\n",
    "```json\n",
    "{\n",
    "    \"themes\": [list of identified themes]\n",
    "}\n",
    "```\n",
    "</span>"
   ]
  },
  {
   "cell_type": "code",
   "execution_count": null,
   "metadata": {},
   "outputs": [],
   "source": [
    "system_prompt = \"\"\"\n",
    "You are an experienced customer service representative for a large online retailer. \n",
    "\n",
    "Your task is to:\n",
    "...\n",
    "\n",
    "Return the response as a json in this format:\n",
    "...\n",
    "\"\"\"\n",
    "system_prompt"
   ]
  },
  {
   "cell_type": "markdown",
   "metadata": {},
   "source": [
    "<span style=\"color:green\">\n",
    "Task 2: Write a user prompt to identify key themes from all extracted topics.\n",
    "</span>"
   ]
  },
  {
   "cell_type": "code",
   "execution_count": null,
   "metadata": {},
   "outputs": [],
   "source": [
    "user_prompt = f\"\"\"\n",
    "\n",
    "{...}\n",
    "\"\"\"\n",
    "user_prompt"
   ]
  },
  {
   "cell_type": "markdown",
   "metadata": {},
   "source": [
    "<span style=\"color:green\">\n",
    "Task 3: Test your prompt on extracted topics.\n",
    "</span>"
   ]
  },
  {
   "cell_type": "code",
   "execution_count": null,
   "metadata": {},
   "outputs": [],
   "source": [
    "completion = get_completion(system_prompt, user_prompt)\n",
    "completion = json.loads(completion)\n",
    "completion"
   ]
  },
  {
   "cell_type": "markdown",
   "metadata": {},
   "source": [
    "<span style=\"color:green\">\n",
    "Task 4: Turn your code into a <code>get_themes</code> function and test it.\n",
    "</span>"
   ]
  },
  {
   "cell_type": "code",
   "execution_count": null,
   "metadata": {},
   "outputs": [],
   "source": [
    "def get_themes(topics):\n",
    "    system_prompt = \"\"\"\n",
    "    You are an experienced customer service representative for a large online retailer. \n",
    "\n",
    "    Your task is to:\n",
    "    ...\n",
    "\n",
    "    Return the response as a json in this format:\n",
    "    ...\n",
    "    \"\"\"\n",
    "\n",
    "    user_prompt = f\"\"\"\n",
    "\n",
    "    {...}\n",
    "    \"\"\"\n",
    "\n",
    "    completion = get_completion(system_prompt, user_prompt)\n",
    "    completion = json.loads(completion)\n",
    "\n",
    "    return completion[\"themes\"]"
   ]
  },
  {
   "cell_type": "code",
   "execution_count": null,
   "metadata": {},
   "outputs": [],
   "source": [
    "themes = get_themes(...)\n",
    "display(themes)"
   ]
  },
  {
   "cell_type": "markdown",
   "metadata": {},
   "source": [
    "<span style=\"color:green\">\n",
    "Task 5: Manually validate the extracted themes.\n",
    "</span>"
   ]
  },
  {
   "cell_type": "markdown",
   "metadata": {},
   "source": [
    "**4. Text Summarisation**\n",
    "\n",
    "Summarise what the customers are saying about extracted themes."
   ]
  },
  {
   "cell_type": "code",
   "execution_count": null,
   "metadata": {},
   "outputs": [],
   "source": [
    "reviews = df_reviews[\"review\"].to_list()\n",
    "reviews"
   ]
  },
  {
   "cell_type": "markdown",
   "metadata": {},
   "source": [
    "<span style=\"color:green\">\n",
    "Task: Write a function that takes <code>reviews</code>, and <code>themes</code> as an input and returns what the customers are saying about every extracted theme in this format:\n",
    "\n",
    "```json\n",
    "{\n",
    "    \"theme\": \"summery\",\n",
    "}\n",
    "```\n",
    "</span>"
   ]
  },
  {
   "cell_type": "code",
   "execution_count": null,
   "metadata": {},
   "outputs": [],
   "source": [
    "def get_theme_summary(reviews, themes):\n",
    "    system_prompt = \"\"\"\n",
    "    You are an experienced customer service representative for a large online retailer. \n",
    "\n",
    "    Your task is to:\n",
    "    ...\n",
    "\n",
    "    Return the response as a json in this format:\n",
    "    ...\n",
    "    \"\"\"\n",
    "\n",
    "    user_prompt = f\"\"\"\n",
    "    ... \n",
    "    {...}\n",
    "\n",
    "    ...\n",
    "    {...}\n",
    "    \"\"\"\n",
    "\n",
    "    completion = get_completion(system_prompt, user_prompt)\n",
    "    completion = json.loads(completion)\n",
    "\n",
    "    return completion"
   ]
  },
  {
   "cell_type": "code",
   "execution_count": null,
   "metadata": {},
   "outputs": [],
   "source": [
    "summaries = get_theme_summary(..., ...)\n",
    "display(summaries)"
   ]
  },
  {
   "cell_type": "markdown",
   "metadata": {},
   "source": [
    "<span style=\"color:green\">\n",
    "Task: Change the output to be in this format:\n",
    "\n",
    "```json\n",
    "{\n",
    "    \"theme\": {\n",
    "        \"summery\": \"summery\",\n",
    "        \"positive\": [\"list of positive sentences\"],\n",
    "        \"negative\": [\"list of negative sentences\"],\n",
    "    }\n",
    "}\n",
    "```\n",
    "</span>"
   ]
  },
  {
   "cell_type": "code",
   "execution_count": null,
   "metadata": {},
   "outputs": [],
   "source": [
    "def get_theme_summary(reviews, themes):\n",
    "    system_prompt = \"\"\"\n",
    "    You are an experienced customer service representative for a large online retailer. \n",
    "\n",
    "    Your task is to:\n",
    "    ...\n",
    "\n",
    "    Return the response as a json in this format:\n",
    "    ...\n",
    "    \"\"\"\n",
    "\n",
    "    user_prompt = f\"\"\"\n",
    "    ...\n",
    "    {...}\n",
    "\n",
    "    # ...\n",
    "    {...}\n",
    "    \"\"\"\n",
    "\n",
    "    completion = get_completion(system_prompt, user_prompt)\n",
    "    completion = json.loads(completion)\n",
    "\n",
    "    return completion"
   ]
  },
  {
   "cell_type": "code",
   "execution_count": null,
   "metadata": {},
   "outputs": [],
   "source": [
    "summaries = get_theme_summary(..., ...)\n",
    "display(summaries)"
   ]
  },
  {
   "cell_type": "markdown",
   "metadata": {},
   "source": [
    "**5. Overall Summarisation**\n",
    "\n",
    "Summarise the summaries of all extracted themes."
   ]
  },
  {
   "cell_type": "markdown",
   "metadata": {},
   "source": [
    "<span style=\"color:green\">\n",
    "Task: Write a function that takes <code>summaries</code> as an input and returns an overall summary of what the customers are saying in this format:\n",
    "\n",
    "```json\n",
    "{\n",
    "    \"summery\": \"summery\",\n",
    "}\n",
    "```\n",
    "</span>"
   ]
  },
  {
   "cell_type": "code",
   "execution_count": null,
   "metadata": {},
   "outputs": [],
   "source": [
    "def get_summary(summaries):\n",
    "    system_prompt = \"\"\"\n",
    "    You are an experienced customer service representative for a large online retailer.\n",
    "\n",
    "    Your task is to:\n",
    "    ...\n",
    "\n",
    "    Return the response as a json in this format:\n",
    "    ...\n",
    "    \"\"\"\n",
    "\n",
    "    user_prompt = f\"\"\"\n",
    "    ...\n",
    "    {...}\n",
    "\n",
    "    \"\"\"\n",
    "\n",
    "    completion = get_completion(system_prompt, user_prompt)\n",
    "    completion = json.loads(completion)\n",
    "\n",
    "    return completion[\"summery\"]"
   ]
  },
  {
   "cell_type": "code",
   "execution_count": null,
   "metadata": {},
   "outputs": [],
   "source": [
    "summary = get_summary(...)\n",
    "display(summary)"
   ]
  }
 ],
 "metadata": {
  "kernelspec": {
   "display_name": ".venv",
   "language": "python",
   "name": "python3"
  },
  "language_info": {
   "codemirror_mode": {
    "name": "ipython",
    "version": 3
   },
   "file_extension": ".py",
   "mimetype": "text/x-python",
   "name": "python",
   "nbconvert_exporter": "python",
   "pygments_lexer": "ipython3",
   "version": "3.10.11"
  }
 },
 "nbformat": 4,
 "nbformat_minor": 2
}
